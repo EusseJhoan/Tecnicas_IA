{
 "cells": [
  {
   "cell_type": "code",
   "execution_count": 12,
   "metadata": {
    "collapsed": true
   },
   "outputs": [],
   "source": [
    "import numpy as np"
   ]
  },
  {
   "cell_type": "markdown",
   "metadata": {},
   "source": [
    "# Adam"
   ]
  },
  {
   "cell_type": "code",
   "execution_count": 13,
   "metadata": {},
   "outputs": [],
   "source": [
    "datos=np.genfromtxt('MultiLinReg.csv',delimiter=',')\n",
    "np.random.shuffle(datos)\n",
    "N=len(datos)\n",
    "X=datos[:,:-1]\n",
    "y=datos[:,-1]"
   ]
  },
  {
   "cell_type": "code",
   "execution_count": 14,
   "metadata": {
    "collapsed": true
   },
   "outputs": [],
   "source": [
    "X=np.c_[np.ones((N,1)),X]\n",
    "y=y.reshape((-1,1))\n",
    "m=len(X[0])"
   ]
  },
  {
   "cell_type": "code",
   "execution_count": 15,
   "metadata": {},
   "outputs": [
    {
     "data": {
      "text/plain": [
       "array([[ 10.46464391],\n",
       "       [  5.00345369],\n",
       "       [  3.99569097],\n",
       "       [  2.99702062],\n",
       "       [  2.00618954],\n",
       "       [  1.00863319]])"
      ]
     },
     "execution_count": 15,
     "metadata": {},
     "output_type": "execute_result"
    }
   ],
   "source": [
    "alfa=0.1\n",
    "beta1=0.9\n",
    "beta2=0.999\n",
    "eps=1e-8\n",
    "n_iter=10000\n",
    "A=np.random.randn(m,1)\n",
    "M=np.zeros_like(A)\n",
    "S=np.zeros_like(A)\n",
    "mse_train=[]\n",
    "mse_test=[]\n",
    "for i in range(n_iter):\n",
    "    grad=2*(np.dot(np.dot(X.T,X),A)-np.dot(X.T,y))/N\n",
    "    M=beta1*M+(1-beta1)*grad\n",
    "    S=beta2*S+(1-beta2)*(grad*grad)\n",
    "    M1=M/(1-beta1**(i+1))\n",
    "    S1=S/(1-beta2**(i+1))\n",
    "    A-=alfa*M1/(np.sqrt(S1)+eps)\n",
    "A"
   ]
  },
  {
   "cell_type": "code",
   "execution_count": 16,
   "metadata": {},
   "outputs": [
    {
     "data": {
      "text/plain": [
       "(6, 1)"
      ]
     },
     "execution_count": 16,
     "metadata": {},
     "output_type": "execute_result"
    }
   ],
   "source": [
    "grad.shape"
   ]
  },
  {
   "cell_type": "code",
   "execution_count": null,
   "metadata": {
    "collapsed": true
   },
   "outputs": [],
   "source": []
  }
 ],
 "metadata": {
  "kernelspec": {
   "display_name": "Python 3",
   "language": "python",
   "name": "python3"
  },
  "language_info": {
   "codemirror_mode": {
    "name": "ipython",
    "version": 3
   },
   "file_extension": ".py",
   "mimetype": "text/x-python",
   "name": "python",
   "nbconvert_exporter": "python",
   "pygments_lexer": "ipython3",
   "version": "3.6.5"
  }
 },
 "nbformat": 4,
 "nbformat_minor": 2
}
