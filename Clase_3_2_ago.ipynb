{
 "cells": [
  {
   "cell_type": "markdown",
   "metadata": {},
   "source": [
    "# Batch con momentos y regularización"
   ]
  },
  {
   "cell_type": "code",
   "execution_count": 21,
   "metadata": {
    "collapsed": true
   },
   "outputs": [],
   "source": [
    "import numpy as np"
   ]
  },
  {
   "cell_type": "code",
   "execution_count": 22,
   "metadata": {},
   "outputs": [],
   "source": [
    "datos= np.genfromtxt('MultiLinReg.csv', delimiter= ',') # Extrayendo datos del archivo csv con Numpy\n",
    "y=datos[:,-1] # Extrayendo todas las filas y la última columna\n",
    "y=y.reshape((-1,1)) # Cambiando la forma de y de (#,) a (#,1)\n",
    "X=datos[:,:-1] # Extrayendo todas las filas y todas las columnas hasta ántes de la última\n",
    "X=np.c_[np.ones((X.shape[0],1)),X] #Agregando columna de unos a X\n",
    "A=np.random.rand(X.shape[1],1) #Generando vector aleatoria de ai\n",
    "M=np.zeros((X.shape[1],1)) #Inicializando vector M con ceros \n",
    "\n",
    "lambd = 100 #Hiperparámetro asociado a regularización\n",
    "alpha = 0.0001 #Hiperparametro\n",
    "beta = 0.9 #Hiperparametro"
   ]
  },
  {
   "cell_type": "code",
   "execution_count": 23,
   "metadata": {
    "collapsed": true
   },
   "outputs": [],
   "source": [
    "for i in range(1000):\n",
    "    \n",
    "    Grad = (np.dot(np.dot(X.T,X),A) - np.dot(X.T,y)) + 2*lambd*A #Grad de funcion costo con regularización\n",
    "    M = M*beta + alpha * Grad # Actualizando vector de momentos\n",
    "    A = A - M #Actualizando vector de ai \n"
   ]
  },
  {
   "cell_type": "code",
   "execution_count": 24,
   "metadata": {},
   "outputs": [
    {
     "data": {
      "text/plain": [
       "array([[ 1.17197468],\n",
       "       [ 5.09952845],\n",
       "       [ 4.11052705],\n",
       "       [ 3.36598644],\n",
       "       [ 2.44068432],\n",
       "       [ 1.56359801]])"
      ]
     },
     "execution_count": 24,
     "metadata": {},
     "output_type": "execute_result"
    }
   ],
   "source": [
    "A #Imprimiendo vector de coeficientes ai"
   ]
  }
 ],
 "metadata": {
  "kernelspec": {
   "display_name": "Python 3",
   "language": "python",
   "name": "python3"
  },
  "language_info": {
   "codemirror_mode": {
    "name": "ipython",
    "version": 3
   },
   "file_extension": ".py",
   "mimetype": "text/x-python",
   "name": "python",
   "nbconvert_exporter": "python",
   "pygments_lexer": "ipython3",
   "version": "3.6.5"
  }
 },
 "nbformat": 4,
 "nbformat_minor": 2
}
