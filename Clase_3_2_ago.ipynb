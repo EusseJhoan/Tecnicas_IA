{
 "cells": [
  {
   "cell_type": "markdown",
   "metadata": {},
   "source": [
    "# Batch con momentos y regularización"
   ]
  },
  {
   "cell_type": "code",
   "execution_count": 21,
   "metadata": {
    "collapsed": true
   },
   "outputs": [],
   "source": [
    "import numpy as np"
   ]
  },
  {
   "cell_type": "code",
   "execution_count": 22,
   "metadata": {},
   "outputs": [],
   "source": [
    "datos= np.genfromtxt('MultiLinReg.csv', delimiter= ',') # Extrayendo datos del archivo csv con Numpy\n",
    "y=datos[:,-1]\n",
    "y=y.reshape((-1,1))\n",
    "X=datos[:,:-1]\n",
    "X=np.c_[np.ones((X.shape[0],1)),X]\n",
    "A=np.random.rand(X.shape[1],1)\n",
    "M=np.zeros((X.shape[1],1))\n",
    "lambd = 100\n",
    "alpha = 0.0001\n",
    "beta = 0.9"
   ]
  },
  {
   "cell_type": "code",
   "execution_count": 23,
   "metadata": {
    "collapsed": true
   },
   "outputs": [],
   "source": [
    "for i in range(1000):\n",
    "    \n",
    "    Grad = (np.dot(np.dot(X.T,X),A) - np.dot(X.T,y)) + 2*lambd*A\n",
    "    M = M*beta + alpha * Grad\n",
    "    A = A - M\n"
   ]
  },
  {
   "cell_type": "code",
   "execution_count": 24,
   "metadata": {},
   "outputs": [
    {
     "data": {
      "text/plain": [
       "array([[ 1.17197468],\n",
       "       [ 5.09952845],\n",
       "       [ 4.11052705],\n",
       "       [ 3.36598644],\n",
       "       [ 2.44068432],\n",
       "       [ 1.56359801]])"
      ]
     },
     "execution_count": 24,
     "metadata": {},
     "output_type": "execute_result"
    }
   ],
   "source": [
    "A"
   ]
  },
  {
   "cell_type": "code",
   "execution_count": null,
   "metadata": {
    "collapsed": true
   },
   "outputs": [],
   "source": []
  }
 ],
 "metadata": {
  "kernelspec": {
   "display_name": "Python 3",
   "language": "python",
   "name": "python3"
  },
  "language_info": {
   "codemirror_mode": {
    "name": "ipython",
    "version": 3
   },
   "file_extension": ".py",
   "mimetype": "text/x-python",
   "name": "python",
   "nbconvert_exporter": "python",
   "pygments_lexer": "ipython3",
   "version": "3.4.2"
  }
 },
 "nbformat": 4,
 "nbformat_minor": 2
}
