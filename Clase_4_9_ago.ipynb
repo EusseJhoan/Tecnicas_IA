{
 "cells": [
  {
   "cell_type": "code",
   "execution_count": 1,
   "metadata": {},
   "outputs": [],
   "source": [
    "import numpy as np"
   ]
  },
  {
   "cell_type": "code",
   "execution_count": 2,
   "metadata": {},
   "outputs": [],
   "source": [
    "datos=np.genfromtxt('Iris.csv',delimiter=';') #Importando datos\n",
    "np.random.shuffle(datos) # Revolviendo datos\n",
    "N=len(datos) #Sacando el número de datos\n",
    "X=datos[:,:-1] #Extrayendo todas las filas y todas las columnas hasta ántes de la última\n",
    "y=datos[:,-1] #Extrayendo todas las filas y la última columna"
   ]
  },
  {
   "cell_type": "code",
   "execution_count": 3,
   "metadata": {},
   "outputs": [],
   "source": [
    "X=np.c_[np.ones((N,1)),X] #Añadiendo columna de unos a X\n",
    "y=y.reshape((-1,1)) #Ajustando la forma de y de (#,) a (#,1)\n",
    "m=len(X[0]) # Sacando el número de columnas (inputs) "
   ]
  },
  {
   "cell_type": "code",
   "execution_count": 4,
   "metadata": {},
   "outputs": [],
   "source": [
    "#Hiperparámetros\n",
    "alfa=0.01 \n",
    "beta1=0.9\n",
    "beta2=0.999\n",
    "eps=1e-8\n",
    "n_iter=10000\n",
    "A=np.random.randn(m,1) # Generando vector A aleatorio de m filas\n",
    "M=np.zeros_like(A) # Inicializando vector M de m filas con ceros\n",
    "S=np.zeros_like(A) #Inicializando vector S de m filas con ceros\n"
   ]
  },
  {
   "cell_type": "code",
   "execution_count": 5,
   "metadata": {},
   "outputs": [
    {
     "data": {
      "text/plain": [
       "array([[  7.39909541],\n",
       "       [  3.72791354],\n",
       "       [-10.47890231]])"
      ]
     },
     "execution_count": 5,
     "metadata": {},
     "output_type": "execute_result"
    }
   ],
   "source": [
    "#Adam, regresión logística\n",
    "\n",
    "for i in range(n_iter):\n",
    "    \n",
    "    sigma = 1/(1+np.exp(-np.dot(X,A))) # Aplicando función sigma a XA\n",
    "    grad= np.dot(X.T,(2*(sigma-y)/N)) # Calculando el gradiente para logístico\n",
    "    M=beta1*M+(1-beta1)*grad #Actualizando vector M\n",
    "    S=beta2*S+(1-beta2)*(grad*grad) #Actualizando vector S\n",
    "    M1=M/(1-beta1**(i+1)) #Normalizando M\n",
    "    S1=S/(1-beta2**(i+1)) #Normalizando S\n",
    "    A-=alfa*M1/(np.sqrt(S1)+eps) #Actualizando los ai\n",
    "A"
   ]
  },
  {
   "cell_type": "code",
   "execution_count": 6,
   "metadata": {},
   "outputs": [
    {
     "name": "stdout",
     "output_type": "stream",
     "text": [
      "The accuracy is 100.0%\n"
     ]
    }
   ],
   "source": [
    "yp= np.round(1/(1+np.exp(-np.dot(X,A))))\n",
    "vec = (yp==y)\n",
    "print('The accuracy is {}%'.format(np.sum(vec) * 100 /N))"
   ]
  }
 ],
 "metadata": {
  "kernelspec": {
   "display_name": "Python 3",
   "language": "python",
   "name": "python3"
  },
  "language_info": {
   "codemirror_mode": {
    "name": "ipython",
    "version": 3
   },
   "file_extension": ".py",
   "mimetype": "text/x-python",
   "name": "python",
   "nbconvert_exporter": "python",
   "pygments_lexer": "ipython3",
   "version": "3.6.5"
  }
 },
 "nbformat": 4,
 "nbformat_minor": 2
}
