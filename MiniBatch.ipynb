{
 "cells": [
  {
   "cell_type": "code",
   "execution_count": 1,
   "metadata": {
    "collapsed": true
   },
   "outputs": [],
   "source": [
    "import numpy as np"
   ]
  },
  {
   "cell_type": "code",
   "execution_count": 2,
   "metadata": {},
   "outputs": [
    {
     "data": {
      "text/plain": [
       "(200, 6)"
      ]
     },
     "execution_count": 2,
     "metadata": {},
     "output_type": "execute_result"
    }
   ],
   "source": [
    "datos= np.genfromtxt('MultiLinReg.csv', delimiter= ',') # Extrayendo datos del archivo csv con Numpy\n",
    "y=datos[:,-1]\n",
    "y=y.reshape((-1,1))\n",
    "X=datos[:,:-1]\n",
    "X=np.c_[np.ones((X.shape[0],1)),X]\n",
    "A=np.random.rand(X.shape[1],1)\n",
    "M=np.zeros((X.shape[1],1))\n",
    "X.shape"
   ]
  },
  {
   "cell_type": "markdown",
   "metadata": {},
   "source": [
    "# Mini Batch con momentos "
   ]
  },
  {
   "cell_type": "code",
   "execution_count": 3,
   "metadata": {},
   "outputs": [],
   "source": [
    "alpha = 0.1\n",
    "beta = 0.9\n",
    "batchsize = 20\n",
    "datosbatch = int(X.shape[0]/batchsize)"
   ]
  },
  {
   "cell_type": "code",
   "execution_count": 4,
   "metadata": {},
   "outputs": [],
   "source": [
    "for i in range(1000):\n",
    "\n",
    "    combined = list(zip(X, y))\n",
    "    np.random.shuffle(combined)\n",
    "    X[:], y[:] = zip(*combined)\n",
    "    \n",
    "    for j in range(1,int(batchsize)+1):\n",
    "        Xl = X[datosbatch*(j-1):datosbatch*j,::]\n",
    "        Grad =(2/X.shape[0])*((np.dot(np.dot(Xl.T,Xl),A) - np.dot(Xl.T,y[datosbatch*(j-1):datosbatch*j])))\n",
    "        M = M*beta + alpha * Grad\n",
    "        A = A - M    "
   ]
  },
  {
   "cell_type": "code",
   "execution_count": 5,
   "metadata": {},
   "outputs": [
    {
     "data": {
      "text/plain": [
       "array([[ 9.90861735],\n",
       "       [ 4.96076701],\n",
       "       [ 4.09693845],\n",
       "       [ 3.19860811],\n",
       "       [ 1.88227532],\n",
       "       [ 0.96198429]])"
      ]
     },
     "execution_count": 5,
     "metadata": {},
     "output_type": "execute_result"
    }
   ],
   "source": [
    "A"
   ]
  },
  {
   "cell_type": "code",
   "execution_count": null,
   "metadata": {
    "collapsed": true
   },
   "outputs": [],
   "source": []
  }
 ],
 "metadata": {
  "kernelspec": {
   "display_name": "Python 3",
   "language": "python",
   "name": "python3"
  },
  "language_info": {
   "codemirror_mode": {
    "name": "ipython",
    "version": 3
   },
   "file_extension": ".py",
   "mimetype": "text/x-python",
   "name": "python",
   "nbconvert_exporter": "python",
   "pygments_lexer": "ipython3",
   "version": "3.4.2"
  }
 },
 "nbformat": 4,
 "nbformat_minor": 2
}
