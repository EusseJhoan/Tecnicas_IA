{
 "cells": [
  {
   "cell_type": "markdown",
   "metadata": {},
   "source": [
    "<img src=\"https://upload.wikimedia.org/wikipedia/commons/thumb/1/11/TensorFlowLogo.svg/2000px-TensorFlowLogo.svg.png\" width=\"500\"/>"
   ]
  },
  {
   "cell_type": "code",
   "execution_count": 4,
   "metadata": {},
   "outputs": [],
   "source": [
    "import tensorflow as tf\n",
    "import numpy as np"
   ]
  },
  {
   "cell_type": "markdown",
   "metadata": {},
   "source": [
    "## Variables"
   ]
  },
  {
   "cell_type": "markdown",
   "metadata": {},
   "source": [
    "<img src=\"http://colah.github.io/posts/2015-08-Backprop/img/tree-def.png\" width=\"500\">"
   ]
  },
  {
   "cell_type": "code",
   "execution_count": 7,
   "metadata": {},
   "outputs": [],
   "source": [
    "tf.reset_default_graph() #reiniciar grafos\n",
    "\n",
    "#Inicializar grafos\n",
    "x = tf.Variable(3, name=\"x\") #Definir variable del grafo\n",
    "y = tf.Variable(4, name=\"y\") #Definir variable del grafo\n",
    "z = x + y #Definir operaciones\n",
    "f = x*x*y + y - z + 1 #Definir operaciones"
   ]
  },
  {
   "cell_type": "markdown",
   "metadata": {},
   "source": [
    "## Eval vs Run"
   ]
  },
  {
   "cell_type": "code",
   "execution_count": 8,
   "metadata": {},
   "outputs": [
    {
     "name": "stdout",
     "output_type": "stream",
     "text": [
      "z = 7\n",
      "f = 34\n",
      "f = 34\n"
     ]
    }
   ],
   "source": [
    "with tf.Session() as sess: #Sesiones para evaluar los grafos\n",
    "    x.initializer.run() #inicializar variable\n",
    "    y.initializer.run() #inicializar variable\n",
    "    resultz = z.eval() #evaluar resultado\n",
    "    resultf1 = f.eval() #evaluar resultado\n",
    "    resultf2 = sess.run(f) #evaluar resultado\n",
    "    print('z =',resultz)\n",
    "    print('f =',resultf1)\n",
    "    print('f =',resultf2)"
   ]
  },
  {
   "cell_type": "code",
   "execution_count": 11,
   "metadata": {},
   "outputs": [
    {
     "name": "stdout",
     "output_type": "stream",
     "text": [
      "z = 1\n",
      "f = 2\n"
     ]
    }
   ],
   "source": [
    "init = tf.global_variables_initializer()\n",
    "with tf.Session() as sess:\n",
    "    init.run()\n",
    "    resultf,resultz = sess.run([f,z],feed_dict={x:1,y:1,z:1})\n",
    "    print('z =',resultz)\n",
    "    print('f =',resultf)"
   ]
  },
  {
   "cell_type": "markdown",
   "metadata": {},
   "source": [
    "# Gradiente Descendente"
   ]
  },
  {
   "cell_type": "markdown",
   "metadata": {},
   "source": [
    "<img src=\"https://www.oreilly.com/library/view/hands-on-machine-learning/9781491962282/assets/mlst_0402.png\" width=\"500\"/>"
   ]
  },
  {
   "cell_type": "code",
   "execution_count": 5,
   "metadata": {},
   "outputs": [],
   "source": [
    "tf.reset_default_graph()\n",
    "valx=3\n",
    "x = tf.Variable(valx,dtype=tf.float32)\n",
    "f=x**2\n",
    "df=2*x"
   ]
  },
  {
   "cell_type": "code",
   "execution_count": 6,
   "metadata": {},
   "outputs": [
    {
     "name": "stdout",
     "output_type": "stream",
     "text": [
      "5.04890206182e-09\n"
     ]
    }
   ],
   "source": [
    "init = tf.global_variables_initializer()\n",
    "with tf.Session() as sess:\n",
    "    init.run()\n",
    "    for i in range(1000):\n",
    "        resf,resd=sess.run([f,df],feed_dict={x:valx})\n",
    "        valx-=0.01*resd\n",
    "    print(valx)"
   ]
  },
  {
   "cell_type": "markdown",
   "metadata": {},
   "source": [
    "## Autodiff"
   ]
  },
  {
   "cell_type": "code",
   "execution_count": 7,
   "metadata": {},
   "outputs": [],
   "source": [
    "tf.reset_default_graph()\n",
    "valx=3\n",
    "valy=-3\n",
    "x = tf.Variable(valx,dtype=tf.float32)\n",
    "y = tf.Variable(valy,dtype=tf.float32)\n",
    "f=(x-5)**2+(y+5)**2\n",
    "df=tf.gradients(f, [x,y])"
   ]
  },
  {
   "cell_type": "code",
   "execution_count": 8,
   "metadata": {},
   "outputs": [
    {
     "name": "stdout",
     "output_type": "stream",
     "text": [
      "4.99999977112 -4.99999977112\n"
     ]
    }
   ],
   "source": [
    "init = tf.global_variables_initializer()\n",
    "with tf.Session() as sess:\n",
    "    init.run()\n",
    "    for i in range(1000):\n",
    "        resf,resd=sess.run([f,df],feed_dict={x:valx,y:valy})\n",
    "        valx-=0.01*resd[0]\n",
    "        valy-=0.01*resd[1]\n",
    "    print(valx,valy)"
   ]
  },
  {
   "cell_type": "markdown",
   "metadata": {},
   "source": [
    "# Regresión Lineal"
   ]
  },
  {
   "cell_type": "markdown",
   "metadata": {},
   "source": [
    "<img src=\"https://i.ytimg.com/vi/zPG4NjIkCjc/maxresdefault.jpg\" width=\"700\" />"
   ]
  },
  {
   "cell_type": "code",
   "execution_count": 9,
   "metadata": {},
   "outputs": [],
   "source": [
    "m=100\n",
    "xr=np.linspace(0,1,m).reshape(m,1)\n",
    "yr=3*xr+5+np.random.rand(m,1)\n",
    "xr=np.c_[np.ones([m,1]),xr]"
   ]
  },
  {
   "cell_type": "markdown",
   "metadata": {},
   "source": [
    "## Ecuación Normal"
   ]
  },
  {
   "cell_type": "code",
   "execution_count": 22,
   "metadata": {},
   "outputs": [
    {
     "name": "stdout",
     "output_type": "stream",
     "text": [
      "[[ 5.46608307]\n",
      " [ 3.0589149 ]]\n"
     ]
    }
   ],
   "source": [
    "w=np.matmul(np.matmul(np.linalg.inv(np.matmul(xr.T, xr)), xr.T), yr)\n",
    "print(w)"
   ]
  },
  {
   "cell_type": "markdown",
   "metadata": {},
   "source": [
    "## Gradiente Descendente"
   ]
  },
  {
   "cell_type": "code",
   "execution_count": 11,
   "metadata": {},
   "outputs": [],
   "source": [
    "tf.reset_default_graph()\n",
    "\n",
    "X = tf.constant(xr, dtype=tf.float32)\n",
    "y = tf.constant(yr, dtype=tf.float32)\n",
    "\n",
    "theta = tf.Variable(tf.random_uniform([2, 1]))\n",
    "y_pred = tf.matmul(X, theta)\n",
    "error = y_pred - y\n",
    "mse = tf.reduce_mean(tf.square(error))"
   ]
  },
  {
   "cell_type": "code",
   "execution_count": 12,
   "metadata": {},
   "outputs": [],
   "source": [
    "learning_rate = 0.01\n",
    "grads = tf.gradients(mse, theta)[0]\n",
    "training_op = tf.assign(theta, theta - learning_rate * grads) #Gradiente Descendente"
   ]
  },
  {
   "cell_type": "code",
   "execution_count": 23,
   "metadata": {},
   "outputs": [
    {
     "name": "stdout",
     "output_type": "stream",
     "text": [
      "Epoca 0 MSE = 35.1234\n",
      "Epoca 100 MSE = 0.301343\n",
      "Epoca 200 MSE = 0.096766\n",
      "Epoca 300 MSE = 0.0955298\n",
      "Epoca 400 MSE = 0.0954961\n",
      "Epoca 500 MSE = 0.0954758\n",
      "Epoca 600 MSE = 0.0954603\n",
      "Epoca 700 MSE = 0.0954483\n",
      "Epoca 800 MSE = 0.0954393\n",
      "Epoca 900 MSE = 0.0954323\n",
      "[[ 5.45850182]\n",
      " [ 3.07305932]]\n"
     ]
    }
   ],
   "source": [
    "n_epochs = 1000\n",
    "\n",
    "init = tf.global_variables_initializer()\n",
    "\n",
    "with tf.Session() as sess:\n",
    "    sess.run(init)\n",
    "\n",
    "    for epoch in range(n_epochs):\n",
    "        _,cur_mse=sess.run([training_op,mse])\n",
    "        if epoch % 100 == 0: print(\"Epoca\", epoch, \"MSE =\", cur_mse)\n",
    "            \n",
    "    print(theta.eval())"
   ]
  },
  {
   "cell_type": "markdown",
   "metadata": {},
   "source": [
    "## GradientDescentOptimizer"
   ]
  },
  {
   "cell_type": "code",
   "execution_count": 24,
   "metadata": {},
   "outputs": [],
   "source": [
    "tf.reset_default_graph()\n",
    "\n",
    "X = tf.constant(xr, dtype=tf.float32)\n",
    "y = tf.constant(yr, dtype=tf.float32)\n",
    "\n",
    "theta = tf.Variable(tf.random_uniform([2, 1]))\n",
    "y_pred = tf.matmul(X, theta)\n",
    "error = y_pred - y\n",
    "mse = tf.reduce_mean(tf.square(error))"
   ]
  },
  {
   "cell_type": "code",
   "execution_count": 25,
   "metadata": {},
   "outputs": [],
   "source": [
    "learning_rate = 0.01\n",
    "optimizer = tf.train.GradientDescentOptimizer(learning_rate=learning_rate) #Optimizador\n",
    "training_op = optimizer.minimize(mse)                                      #Objetivo del optimizador"
   ]
  },
  {
   "cell_type": "code",
   "execution_count": 26,
   "metadata": {},
   "outputs": [
    {
     "name": "stdout",
     "output_type": "stream",
     "text": [
      "Epoca 0 MSE = 40.4498\n",
      "Epoca 100 MSE = 0.351307\n",
      "Epoca 200 MSE = 0.111342\n",
      "Epoca 300 MSE = 0.106536\n",
      "Epoca 400 MSE = 0.103911\n",
      "Epoca 500 MSE = 0.10191\n",
      "Epoca 600 MSE = 0.10038\n",
      "Epoca 700 MSE = 0.0992101\n",
      "Epoca 800 MSE = 0.0983155\n",
      "Epoca 900 MSE = 0.0976316\n",
      "[[ 5.39089203]\n",
      " [ 3.19921422]]\n"
     ]
    }
   ],
   "source": [
    "n_epochs = 1000\n",
    "\n",
    "init = tf.global_variables_initializer()\n",
    "\n",
    "with tf.Session() as sess:\n",
    "    sess.run(init)\n",
    "\n",
    "    for epoch in range(n_epochs):\n",
    "        _,cur_mse=sess.run([training_op,mse])\n",
    "        if epoch % 100 == 0: print(\"Epoca\", epoch, \"MSE =\", cur_mse)\n",
    "            \n",
    "    print(theta.eval())"
   ]
  },
  {
   "cell_type": "markdown",
   "metadata": {},
   "source": [
    "## Adam"
   ]
  },
  {
   "cell_type": "code",
   "execution_count": 27,
   "metadata": {},
   "outputs": [],
   "source": [
    "tf.reset_default_graph()\n",
    "\n",
    "X = tf.constant(xr, dtype=tf.float32)\n",
    "y = tf.constant(yr, dtype=tf.float32)\n",
    "\n",
    "theta = tf.Variable(tf.random_uniform([2, 1]))\n",
    "y_pred = tf.matmul(X, theta)\n",
    "error = y_pred - y\n",
    "mse = tf.reduce_mean(tf.square(error))"
   ]
  },
  {
   "cell_type": "code",
   "execution_count": 43,
   "metadata": {},
   "outputs": [],
   "source": [
    "learning_rate = 0.1\n",
    "optimizer = tf.train.AdamOptimizer(learning_rate=learning_rate) #Optimizador\n",
    "training_op = optimizer.minimize(mse)                           #Objetivo del optimizador"
   ]
  },
  {
   "cell_type": "code",
   "execution_count": 44,
   "metadata": {},
   "outputs": [
    {
     "name": "stdout",
     "output_type": "stream",
     "text": [
      "Epoca 0 MSE = 36.4757\n",
      "Epoca 100 MSE = 0.208683\n",
      "Epoca 200 MSE = 0.128353\n",
      "Epoca 300 MSE = 0.101626\n",
      "Epoca 400 MSE = 0.0961948\n",
      "Epoca 500 MSE = 0.0954768\n",
      "Epoca 600 MSE = 0.0954136\n",
      "Epoca 700 MSE = 0.0954099\n",
      "Epoca 800 MSE = 0.0954098\n",
      "Epoca 900 MSE = 0.0954098\n",
      "[[ 5.46607733]\n",
      " [ 3.05892396]]\n"
     ]
    }
   ],
   "source": [
    "n_epochs = 1000\n",
    "\n",
    "init = tf.global_variables_initializer()\n",
    "\n",
    "with tf.Session() as sess:\n",
    "    sess.run(init)\n",
    "\n",
    "    for epoch in range(n_epochs):\n",
    "        _,cur_mse=sess.run([training_op,mse])\n",
    "        eval_current_lr = sess.run(current_lr)\n",
    "        if epoch % 100 == 0: print(\"Epoca\", epoch, \"MSE =\", cur_mse)\n",
    "            \n",
    "    print(theta.eval())"
   ]
  },
  {
   "cell_type": "markdown",
   "metadata": {},
   "source": [
    "# Mini-Batch"
   ]
  },
  {
   "cell_type": "code",
   "execution_count": null,
   "metadata": {},
   "outputs": [],
   "source": [
    "tf.reset_default_graph()\n",
    "\n",
    "X = tf.placeholder(shape=(None,2), dtype=tf.float32)#Placeholder en vez de Constant\n",
    "y = tf.placeholder(shape=(None,1), dtype=tf.float32)#Placeholder en vez de Constant"
   ]
  },
  {
   "cell_type": "code",
   "execution_count": null,
   "metadata": {},
   "outputs": [],
   "source": [
    "theta = tf.Variable(tf.random_uniform([2, 1]))\n",
    "y_pred = tf.matmul(X, theta)\n",
    "error = y_pred - y\n",
    "mse = tf.reduce_mean(tf.square(error))"
   ]
  },
  {
   "cell_type": "code",
   "execution_count": null,
   "metadata": {},
   "outputs": [],
   "source": [
    "learning_rate = 0.1\n",
    "optimizer = tf.train.AdamOptimizer(learning_rate=learning_rate)#Optimizador\n",
    "training_op = optimizer.minimize(mse)                          #Objetivo"
   ]
  },
  {
   "cell_type": "code",
   "execution_count": null,
   "metadata": {},
   "outputs": [],
   "source": [
    "batch_size = 32\n",
    "n_batches = m//batch_size\n",
    "n_epochs = 1000\n",
    "\n",
    "init = tf.global_variables_initializer()\n",
    "\n",
    "with tf.Session() as sess:\n",
    "    sess.run(init)\n",
    "\n",
    "    for epoch in range(n_epochs):\n",
    "        indices=np.arange(m)\n",
    "        np.random.shuffle(indices)\n",
    "        for batch in range(n_batches):\n",
    "            X_batch=xr[indices[batch*batch_size:(batch+1)*batch_size],:]\n",
    "            y_batch=yr[indices[batch*batch_size:(batch+1)*batch_size],:]\n",
    "            sess.run(training_op,feed_dict={X:X_batch,y:y_batch})\n",
    "        if epoch % 100 == 0: print(\"Epoca\", epoch, \"MSE =\", mse.eval(feed_dict={X:xr,y:yr}))\n",
    "            \n",
    "    print(theta.eval())"
   ]
  },
  {
   "cell_type": "markdown",
   "metadata": {},
   "source": [
    "# Guardar y Restaurar"
   ]
  },
  {
   "cell_type": "code",
   "execution_count": null,
   "metadata": {},
   "outputs": [],
   "source": [
    "tf.reset_default_graph()\n",
    "\n",
    "X = tf.constant(xr, dtype=tf.float32)\n",
    "y = tf.constant(yr, dtype=tf.float32)\n",
    "\n",
    "theta = tf.Variable(tf.random_uniform([2, 1]),name=\"theta\")\n",
    "y_pred = tf.matmul(X, theta)\n",
    "error = y_pred - y\n",
    "mse = tf.reduce_mean(tf.square(error))\n",
    "\n",
    "learning_rate = 0.1\n",
    "optimizer = tf.train.AdamOptimizer(learning_rate=learning_rate)\n",
    "training_op = optimizer.minimize(mse)\n",
    "\n",
    "init = tf.global_variables_initializer()"
   ]
  },
  {
   "cell_type": "code",
   "execution_count": null,
   "metadata": {},
   "outputs": [],
   "source": [
    "saver = tf.train.Saver()  #Grabador"
   ]
  },
  {
   "cell_type": "code",
   "execution_count": null,
   "metadata": {},
   "outputs": [],
   "source": [
    "n_epochs = 1000\n",
    "with tf.Session() as sess:\n",
    "    sess.run(init)\n",
    "\n",
    "    for epoch in range(n_epochs):\n",
    "        _,cur_mse=sess.run([training_op,mse])\n",
    "        if epoch % 100 == 0: print(\"Epoca\", epoch, \"MSE =\", cur_mse)\n",
    "        save_path = saver.save(sess, \"/tmp/my_model.ckpt\")           #Guardar Checkpoints\n",
    "    print(theta.eval())\n",
    "    save_path = saver.save(sess, \"/tmp/my_model_final.ckpt\")         #Guardar modelo final"
   ]
  },
  {
   "cell_type": "markdown",
   "metadata": {},
   "source": [
    "## Restaurar"
   ]
  },
  {
   "cell_type": "markdown",
   "metadata": {},
   "source": [
    "### Error"
   ]
  },
  {
   "cell_type": "markdown",
   "metadata": {},
   "source": [
    "Restaurar con un grafo diferente"
   ]
  },
  {
   "cell_type": "code",
   "execution_count": null,
   "metadata": {},
   "outputs": [],
   "source": [
    "tf.reset_default_graph()\n",
    "theta = tf.Variable(tf.random_uniform([2, 2]))\n",
    "saver = tf.train.Saver()\n",
    "with tf.Session() as sess:\n",
    "    saver.restore(sess, \"/tmp/my_model_final.ckpt\")\n",
    "    print(theta.eval())"
   ]
  },
  {
   "cell_type": "markdown",
   "metadata": {},
   "source": [
    "## Sin Error"
   ]
  },
  {
   "cell_type": "markdown",
   "metadata": {},
   "source": [
    "Restaurar con el mismo grafo"
   ]
  },
  {
   "cell_type": "code",
   "execution_count": null,
   "metadata": {},
   "outputs": [],
   "source": [
    "tf.reset_default_graph()\n",
    "\n",
    "X = tf.constant(xr, dtype=tf.float32)\n",
    "y = tf.constant(yr, dtype=tf.float32)\n",
    "\n",
    "theta = tf.Variable(tf.random_uniform([2, 1]))\n",
    "y_pred = tf.matmul(X, theta)\n",
    "error = y_pred - y\n",
    "mse = tf.reduce_mean(tf.square(error), name=\"mse\")\n",
    "\n",
    "learning_rate = 0.1\n",
    "optimizer = tf.train.AdamOptimizer(learning_rate=learning_rate)\n",
    "training_op = optimizer.minimize(mse)\n",
    "\n",
    "init = tf.global_variables_initializer()\n",
    "saver = tf.train.Saver()"
   ]
  },
  {
   "cell_type": "code",
   "execution_count": null,
   "metadata": {},
   "outputs": [],
   "source": [
    "with tf.Session() as sess:\n",
    "    saver.restore(sess, \"/tmp/my_model_final.ckpt\")\n",
    "    print(theta.eval())"
   ]
  },
  {
   "cell_type": "markdown",
   "metadata": {},
   "source": [
    "### Graph"
   ]
  },
  {
   "cell_type": "markdown",
   "metadata": {},
   "source": [
    "Restaurar grafo"
   ]
  },
  {
   "cell_type": "code",
   "execution_count": null,
   "metadata": {},
   "outputs": [],
   "source": [
    "tf.reset_default_graph()\n",
    "\n",
    "saver = tf.train.import_meta_graph(\"/tmp/my_model_final.ckpt.meta\")\n",
    "theta = tf.get_default_graph().get_tensor_by_name(\"theta:0\")\n",
    "\n",
    "with tf.Session() as sess:\n",
    "    saver.restore(sess, \"/tmp/my_model_final.ckpt\")\n",
    "    print(theta.eval())"
   ]
  }
 ],
 "metadata": {
  "kernelspec": {
   "display_name": "Python 3",
   "language": "python",
   "name": "python3"
  },
  "language_info": {
   "codemirror_mode": {
    "name": "ipython",
    "version": 3
   },
   "file_extension": ".py",
   "mimetype": "text/x-python",
   "name": "python",
   "nbconvert_exporter": "python",
   "pygments_lexer": "ipython3",
   "version": "3.6.5"
  },
  "nav_menu": {
   "height": "603px",
   "width": "616px"
  },
  "toc": {
   "navigate_menu": true,
   "number_sections": true,
   "sideBar": true,
   "threshold": 6,
   "toc_cell": false,
   "toc_section_display": "block",
   "toc_window_display": true
  }
 },
 "nbformat": 4,
 "nbformat_minor": 1
}
