{
 "cells": [
  {
   "cell_type": "code",
   "execution_count": 2,
   "metadata": {},
   "outputs": [],
   "source": [
    "import numpy as np"
   ]
  },
  {
   "cell_type": "code",
   "execution_count": 3,
   "metadata": {},
   "outputs": [],
   "source": [
    "N=1000 #Filas para matriz aleatoria\n",
    "m=10 #Columnas para matriz aleatoria"
   ]
  },
  {
   "cell_type": "code",
   "execution_count": 4,
   "metadata": {},
   "outputs": [],
   "source": [
    "X=np.random.rand(N,m) #Generando matriz de X aleatoria\n",
    "X=np.c_[np.ones((N,1)),X] #Agregandole columna de unos"
   ]
  },
  {
   "cell_type": "code",
   "execution_count": 5,
   "metadata": {},
   "outputs": [],
   "source": [
    "y=np.dot(X,[11,10,9,8,7,6,5,4,3,2,1]) #Generando vector y"
   ]
  },
  {
   "cell_type": "code",
   "execution_count": 6,
   "metadata": {},
   "outputs": [
    {
     "data": {
      "text/plain": [
       "(1000,)"
      ]
     },
     "execution_count": 6,
     "metadata": {},
     "output_type": "execute_result"
    }
   ],
   "source": [
    "y.shape"
   ]
  },
  {
   "cell_type": "code",
   "execution_count": 7,
   "metadata": {},
   "outputs": [],
   "source": [
    "y=y.reshape((-1,1)) # Organizando la forma a (#,1)"
   ]
  },
  {
   "cell_type": "code",
   "execution_count": 8,
   "metadata": {},
   "outputs": [
    {
     "data": {
      "text/plain": [
       "(1000, 11)"
      ]
     },
     "execution_count": 8,
     "metadata": {},
     "output_type": "execute_result"
    }
   ],
   "source": [
    "X.shape"
   ]
  },
  {
   "cell_type": "code",
   "execution_count": 9,
   "metadata": {},
   "outputs": [],
   "source": [
    "A=np.random.rand(11,1) #Vector aleatorio de coeficientes ai"
   ]
  },
  {
   "cell_type": "markdown",
   "metadata": {},
   "source": [
    "# Batch gradient descendent"
   ]
  },
  {
   "cell_type": "code",
   "execution_count": 10,
   "metadata": {},
   "outputs": [],
   "source": [
    "alpha = 0.0001 #Hiperparámetro\n",
    "\n",
    "for i in range (1000):\n",
    "    Grad = (np.dot(np.dot(X.T,X),A) - np.dot(X.T,y)) #Gradiente función costo\n",
    "    A = A - alpha*Grad #Actualizando vector de ai"
   ]
  },
  {
   "cell_type": "code",
   "execution_count": 11,
   "metadata": {},
   "outputs": [
    {
     "data": {
      "text/plain": [
       "array([[10.9170953 ],\n",
       "       [10.01274216],\n",
       "       [ 9.01687686],\n",
       "       [ 8.01879102],\n",
       "       [ 7.01691203],\n",
       "       [ 6.01669786],\n",
       "       [ 5.01307556],\n",
       "       [ 4.01776949],\n",
       "       [ 3.01418297],\n",
       "       [ 2.01981597],\n",
       "       [ 1.01526642]])"
      ]
     },
     "execution_count": 11,
     "metadata": {},
     "output_type": "execute_result"
    }
   ],
   "source": [
    "A"
   ]
  },
  {
   "cell_type": "markdown",
   "metadata": {},
   "source": [
    "# Batch con momentos"
   ]
  },
  {
   "cell_type": "code",
   "execution_count": 12,
   "metadata": {},
   "outputs": [],
   "source": [
    "M=np.zeros((11,1)) #Iniclaizando vector M con ceros\n",
    "alpha = 0.0001 #Hiperparámetro\n",
    "beta = 0.9 #Hiperparámetro\n",
    "\n",
    "for i in range(1000):\n",
    "    Grad = np.dot(np.dot(X.T,X),A) - np.dot(X.T,y) #Gradiente función costo\n",
    "    M = M*beta + alpha * Grad #Actualizando elemntos a vector M\n",
    "    A = A - M #Actualizando vector de ai\n",
    "    A"
   ]
  },
  {
   "cell_type": "code",
   "execution_count": null,
   "metadata": {},
   "outputs": [],
   "source": []
  },
  {
   "cell_type": "markdown",
   "metadata": {},
   "source": [
    "# Mini Batch con momentos "
   ]
  },
  {
   "cell_type": "code",
   "execution_count": null,
   "metadata": {
    "collapsed": true
   },
   "outputs": [],
   "source": [
    "#Ver tarea\n",
    "\n",
    "alpha = 0.0001\n",
    "beta = 0.9\n",
    "M=np.zeros((11,1))\n",
    "batchsize = 20"
   ]
  },
  {
   "cell_type": "code",
   "execution_count": null,
   "metadata": {
    "collapsed": true
   },
   "outputs": [],
   "source": [
    "for i in range(500):\n",
    "\n",
    "    combined = list(zip(X, y))\n",
    "    np.random.shuffle(combined)\n",
    "    X[:], y[:] = zip(*combined)\n",
    "    \n",
    "    for j in range(1,int(N/batchsize)):\n",
    "        Xl = X[batchsize*(j-1):batchsize*j,::]\n",
    "        Grad = np.dot(np.dot(Xl.T,Xl),A) - np.dot(Xl.T,y[batchsize*(j-1):batchsize*j])\n",
    "        M = M*beta + alpha * Grad\n",
    "        A = A - M    "
   ]
  },
  {
   "cell_type": "code",
   "execution_count": null,
   "metadata": {
    "collapsed": true
   },
   "outputs": [],
   "source": [
    "A"
   ]
  },
  {
   "cell_type": "code",
   "execution_count": null,
   "metadata": {
    "collapsed": true
   },
   "outputs": [],
   "source": []
  }
 ],
 "metadata": {
  "kernelspec": {
   "display_name": "Python 3",
   "language": "python",
   "name": "python3"
  },
  "language_info": {
   "codemirror_mode": {
    "name": "ipython",
    "version": 3
   },
   "file_extension": ".py",
   "mimetype": "text/x-python",
   "name": "python",
   "nbconvert_exporter": "python",
   "pygments_lexer": "ipython3",
   "version": "3.6.5"
  }
 },
 "nbformat": 4,
 "nbformat_minor": 2
}
