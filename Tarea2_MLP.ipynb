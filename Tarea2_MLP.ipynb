{
 "cells": [
  {
   "cell_type": "code",
   "execution_count": null,
   "metadata": {},
   "outputs": [],
   "source": [
    "import numpy as np"
   ]
  },
  {
   "cell_type": "code",
   "execution_count": null,
   "metadata": {},
   "outputs": [],
   "source": [
    "def ReLU(z):\n",
    "    return np.max((0,z))\n",
    "\n",
    "ReLU = np.vectorize(ReLU)"
   ]
  },
  {
   "cell_type": "code",
   "execution_count": null,
   "metadata": {},
   "outputs": [],
   "source": [
    "inicio = int(input(\"Eljia entre las dos opciones 1 para matrices de unos y 0 para matrices aleatorias: \"))\n",
    "X=np.array(list(map(float,input(\"Ingrese datos: \").split(\" \")))).reshape([1,-1])\n",
    "ncapas = int(input(\"Ingrese el número de capas: \"))\n",
    "neurona=np.zeros(ncapas+1)\n",
    "neurona[0] = int(X.shape[-1])\n",
    "\n",
    "for i in range (ncapas):\n",
    "    neurona[i+1] = int(input('Ingrese el numero de neuronas para capa {}: '.format(i+1)))"
   ]
  },
  {
   "cell_type": "code",
   "execution_count": 4,
   "metadata": {},
   "outputs": [],
   "source": [
    "if inicio == 0:\n",
    "\n",
    "    for i in range (1,ncapas+1):\n",
    "        A=np.random.rand(int(neurona[i-1]),int(neurona[i]))\n",
    "        B=np.random.rand(1,int(neurona[i]))\n",
    "        X=ReLU(np.dot(X,A) + B)\n",
    "        \n",
    "elif inicio == 1:\n",
    "    \n",
    "    for i in range (1,ncapas+1):\n",
    "        A=np.ones((int(neurona[i-1]),int(neurona[i])))\n",
    "        B=np.ones((1,int(neurona[i])))\n",
    "        X=ReLU(np.dot(X,A) + B)    "
   ]
  },
  {
   "cell_type": "code",
   "execution_count": 5,
   "metadata": {},
   "outputs": [
    {
     "data": {
      "text/plain": [
       "array([[7.13299626, 6.90840475]])"
      ]
     },
     "execution_count": 5,
     "metadata": {},
     "output_type": "execute_result"
    }
   ],
   "source": [
    "X"
   ]
  },
  {
   "cell_type": "code",
   "execution_count": null,
   "metadata": {},
   "outputs": [],
   "source": []
  }
 ],
 "metadata": {
  "kernelspec": {
   "display_name": "Python 3",
   "language": "python",
   "name": "python3"
  },
  "language_info": {
   "codemirror_mode": {
    "name": "ipython",
    "version": 3
   },
   "file_extension": ".py",
   "mimetype": "text/x-python",
   "name": "python",
   "nbconvert_exporter": "python",
   "pygments_lexer": "ipython3",
   "version": "3.6.5"
  }
 },
 "nbformat": 4,
 "nbformat_minor": 2
}
