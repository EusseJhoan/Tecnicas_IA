{
 "cells": [
  {
   "cell_type": "code",
   "execution_count": 8,
   "metadata": {},
   "outputs": [],
   "source": [
    "import numpy as np"
   ]
  },
  {
   "cell_type": "code",
   "execution_count": 9,
   "metadata": {},
   "outputs": [],
   "source": [
    "def Sigmoid(z):\n",
    "    return 1/(1+np.exp(-z))\n",
    "\n",
    "Sigmoid = np.vectorize(Sigmoid)\n",
    "\n",
    "def Dsigmoid(z):\n",
    "    return (1/(1+np.exp(-z)))*(1-(1/(1+np.exp(-z))))\n",
    "\n",
    "Dsigmoid = np.vectorize(Dsigmoid)"
   ]
  },
  {
   "cell_type": "code",
   "execution_count": 10,
   "metadata": {},
   "outputs": [],
   "source": [
    "Y=np.array([[0],[1],[1],[0]])\n",
    "X=np.array([[0,0],[0,1],[1,0],[1,1]])\n",
    "N=int(X.shape[0])\n",
    "ncapas=2\n",
    "neucapa0 = int(X.shape[-1])\n",
    "neucapa1 = 2\n",
    "neucapa2 = 1\n",
    "neurona=[neucapa0,neucapa1,neucapa2]"
   ]
  },
  {
   "cell_type": "code",
   "execution_count": 52,
   "metadata": {},
   "outputs": [],
   "source": [
    "A=[0,]\n",
    "B=[0,]\n",
    "Z=[0,]\n",
    "Xi=[X,]\n",
    "\n",
    "\n",
    "#Inicialización\n",
    "for i in range (1,ncapas+1): \n",
    "    A.append(np.random.uniform(-1,1,(int(neurona[i-1]),int(neurona[i]))))\n",
    "    B.append(np.random.uniform(-1,1,(1,int(neurona[i]))))\n",
    "    Z.append(np.dot(Xi[i-1],A[i]) + B[i])\n",
    "    Xi.append(Sigmoid(Z[i]))\n",
    "    deltaf= 2*(Xi[-1]-Y)/N\n",
    "    \n",
    "\n",
    "delta=[0,deltaf,]\n",
    "Delta=[0,]\n",
    "GradA=[0,]\n",
    "GradB=[0,]\n",
    "\n",
    "#for j in range(100):\n",
    "\n",
    "    \n",
    "for k in range(1,ncapas+1):\n",
    "    \n",
    "    Delta.append(delta[k]*Dsigmoid(Z[-k]))\n",
    "    GradA.append(np.dot(Xi[-(k+1)].T,Delta[k]))\n",
    "    GradB.append(Delta[k].sum(axis=0))\n",
    "    delta.append(np.dot(Delta[k],A[-k].T))\n",
    " "
   ]
  },
  {
   "cell_type": "code",
   "execution_count": 51,
   "metadata": {},
   "outputs": [
    {
     "data": {
      "text/plain": [
       "[array([[-0.00182236,  0.00358124],\n",
       "        [-0.00353761,  0.00348059]]), array([[-0.00358777],\n",
       "        [-0.01671507]]), 0]"
      ]
     },
     "execution_count": 51,
     "metadata": {},
     "output_type": "execute_result"
    }
   ],
   "source": []
  },
  {
   "cell_type": "code",
   "execution_count": null,
   "metadata": {},
   "outputs": [],
   "source": []
  },
  {
   "cell_type": "code",
   "execution_count": null,
   "metadata": {},
   "outputs": [],
   "source": []
  },
  {
   "cell_type": "code",
   "execution_count": null,
   "metadata": {},
   "outputs": [],
   "source": []
  },
  {
   "cell_type": "code",
   "execution_count": null,
   "metadata": {},
   "outputs": [],
   "source": []
  }
 ],
 "metadata": {
  "kernelspec": {
   "display_name": "Python 3",
   "language": "python",
   "name": "python3"
  },
  "language_info": {
   "codemirror_mode": {
    "name": "ipython",
    "version": 3
   },
   "file_extension": ".py",
   "mimetype": "text/x-python",
   "name": "python",
   "nbconvert_exporter": "python",
   "pygments_lexer": "ipython3",
   "version": "3.6.5"
  }
 },
 "nbformat": 4,
 "nbformat_minor": 2
}
