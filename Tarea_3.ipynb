{
 "cells": [
  {
   "cell_type": "code",
   "execution_count": 33,
   "metadata": {
    "collapsed": true
   },
   "outputs": [],
   "source": [
    "import numpy as np"
   ]
  },
  {
   "cell_type": "code",
   "execution_count": 34,
   "metadata": {},
   "outputs": [],
   "source": [
    "def ReLU(z):\n",
    "    return np.max((0,z))\n",
    "\n",
    "ReLU = np.vectorize(ReLU)"
   ]
  },
  {
   "cell_type": "code",
   "execution_count": 35,
   "metadata": {},
   "outputs": [],
   "source": [
    "Y=np.array([[0],[1],[1],[0]])\n",
    "n=int(X.shape[0])\n",
    "X=np.array([[0,0],[0,1],[1,0],[1,1]])\n",
    "ncapas=2\n",
    "neucapa0 = int(X.shape[-1])\n",
    "neucapa1 = 2\n",
    "neucapa2 = 1\n",
    "neurona=[neucapa0,neucapa1,neucapa2]"
   ]
  },
  {
   "cell_type": "code",
   "execution_count": 52,
   "metadata": {},
   "outputs": [
    {
     "data": {
      "text/plain": [
       "array([[ 0. ,  0. ],\n",
       "       [-0.5,  0. ],\n",
       "       [ 0. , -0.5],\n",
       "       [ 0.5,  0.5]])"
      ]
     },
     "execution_count": 52,
     "metadata": {},
     "output_type": "execute_result"
    }
   ],
   "source": [
    "A=[0,]\n",
    "B=[0,]\n",
    "Z=[0,]\n",
    "Xi=[X,]\n",
    "\n",
    "\n",
    "#Inicialización\n",
    "for i in range (1,ncapas+1): \n",
    "    A.append(np.random.rand(int(neurona[i-1]),int(neurona[i])))\n",
    "    B.append(np.random.rand(1,int(neurona[i])))\n",
    "    Z.append(np.dot(Xi[i-1],A[i]) + B[i])\n",
    "    Xi.append(ReLU(Z[i]))\n",
    "    deltaf=(2/n)*(X-Y)\n",
    "    \n",
    "\n",
    "delta=[0,deltaf,]\n",
    "Delta=[0,]\n",
    "GradA=[0,]\n",
    "GradB=[0,]\n",
    "\n",
    "Delta.append(delta[1]*np.heaviside(Z[-1],0.5))\n",
    "GradA = np.dot(Xi[-2].T,Delta[1])\n",
    "#delta.append(np.dot(Delta[1],A[-1].T))\n",
    "Delta[1]\n",
    "#for j in range(100):\n",
    "\n",
    "    \n",
    "#for k in range(1,ncapas+1):\n",
    "    #Delta.append(delta[k]*np.heaviside(Z[-k],0.5))\n",
    "    #GradA = np.dot(Xi[-(k+1)].T,Delta[k])\n",
    "        #GradB =\n",
    "    #delta.append(np.dot(Delta[k],A[-k].T))\n",
    "        \n",
    "#Delta = delta*np.heaviside(Z[-1],0.5)\n",
    "#GradA = np.dot(Xi[-2].T,Delta)\n",
    " "
   ]
  },
  {
   "cell_type": "code",
   "execution_count": 43,
   "metadata": {},
   "outputs": [
    {
     "data": {
      "text/plain": [
       "0"
      ]
     },
     "execution_count": 43,
     "metadata": {},
     "output_type": "execute_result"
    }
   ],
   "source": [
    "Z[-3]"
   ]
  },
  {
   "cell_type": "code",
   "execution_count": null,
   "metadata": {},
   "outputs": [],
   "source": [
    "X.shape[0]"
   ]
  },
  {
   "cell_type": "code",
   "execution_count": 17,
   "metadata": {},
   "outputs": [
    {
     "data": {
      "text/plain": [
       "0.5"
      ]
     },
     "execution_count": 17,
     "metadata": {},
     "output_type": "execute_result"
    }
   ],
   "source": []
  },
  {
   "cell_type": "code",
   "execution_count": 18,
   "metadata": {},
   "outputs": [
    {
     "data": {
      "text/plain": [
       "array([[ 0,  0],\n",
       "       [-1,  0],\n",
       "       [ 0, -1],\n",
       "       [ 1,  1]])"
      ]
     },
     "execution_count": 18,
     "metadata": {},
     "output_type": "execute_result"
    }
   ],
   "source": []
  },
  {
   "cell_type": "code",
   "execution_count": null,
   "metadata": {
    "collapsed": true
   },
   "outputs": [],
   "source": []
  }
 ],
 "metadata": {
  "kernelspec": {
   "display_name": "Python 3",
   "language": "python",
   "name": "python3"
  },
  "language_info": {
   "codemirror_mode": {
    "name": "ipython",
    "version": 3
   },
   "file_extension": ".py",
   "mimetype": "text/x-python",
   "name": "python",
   "nbconvert_exporter": "python",
   "pygments_lexer": "ipython3",
   "version": "3.4.2"
  }
 },
 "nbformat": 4,
 "nbformat_minor": 2
}
