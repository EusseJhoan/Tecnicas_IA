{
 "cells": [
  {
   "cell_type": "code",
   "execution_count": 1,
   "metadata": {},
   "outputs": [],
   "source": [
    "import numpy as np"
   ]
  },
  {
   "cell_type": "code",
   "execution_count": 2,
   "metadata": {},
   "outputs": [],
   "source": [
    "def ReLU(z):\n",
    "    return np.max((0,z))\n",
    "\n",
    "ReLU = np.vectorize(ReLU)\n",
    "\n",
    "def He"
   ]
  },
  {
   "cell_type": "code",
   "execution_count": 3,
   "metadata": {},
   "outputs": [
    {
     "name": "stdout",
     "output_type": "stream",
     "text": [
      "Ingrese el número de capas: 2\n",
      "Ingrese el numero de neuronas para capa 1: 2\n",
      "Ingrese el numero de neuronas para capa 2: 1\n"
     ]
    }
   ],
   "source": [
    "Y=np.array([[0],[1],[1],[0]])\n",
    "X=np.array([[0,0],[0,1],[1,0],[1,1]])\n",
    "ncapas = int(input(\"Ingrese el número de capas: \"))\n",
    "neurona=np.zeros(ncapas+1)\n",
    "neurona[0] = int(X.shape[-1])\n",
    "\n",
    "for i in range (ncapas):\n",
    "    neurona[i+1] = int(input('Ingrese el numero de neuronas para capa {}: '.format(i+1)))"
   ]
  },
  {
   "cell_type": "code",
   "execution_count": 4,
   "metadata": {},
   "outputs": [],
   "source": [
    "A=[0,]\n",
    "B=[0,]\n",
    "Z=[0,]\n",
    "Xi=[X,]\n",
    "\n",
    "\n",
    "#FeedForward\n",
    "\n",
    "for i in range (1,ncapas+1): \n",
    "        \n",
    "        A.append(np.random.rand(int(neurona[i-1]),int(neurona[i])))\n",
    "        B.append(np.random.rand(1,int(neurona[i])))\n",
    "        Z.append(np.dot(Xi[i-1],A[i]) + B[i])\n",
    "        Xi.append(ReLU(Z[i]))\n",
    " "
   ]
  },
  {
   "cell_type": "code",
   "execution_count": 27,
   "metadata": {},
   "outputs": [],
   "source": [
    "#Back propagation\n",
    "\n",
    "delta = (2/int(X.shape[0]))*(Xi[-1]- Y)\n",
    "Delta = delta*np.heaviside(Z[-1],0.5)\n",
    "GradA = np.dot(Xi[-2].T,Delta)"
   ]
  },
  {
   "cell_type": "code",
   "execution_count": null,
   "metadata": {},
   "outputs": [],
   "source": []
  },
  {
   "cell_type": "code",
   "execution_count": null,
   "metadata": {},
   "outputs": [],
   "source": []
  }
 ],
 "metadata": {
  "kernelspec": {
   "display_name": "Python 3",
   "language": "python",
   "name": "python3"
  },
  "language_info": {
   "codemirror_mode": {
    "name": "ipython",
    "version": 3
   },
   "file_extension": ".py",
   "mimetype": "text/x-python",
   "name": "python",
   "nbconvert_exporter": "python",
   "pygments_lexer": "ipython3",
   "version": "3.6.5"
  }
 },
 "nbformat": 4,
 "nbformat_minor": 2
}
